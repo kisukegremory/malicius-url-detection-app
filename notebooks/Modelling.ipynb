{
 "cells": [
  {
   "cell_type": "markdown",
   "id": "352fbf84",
   "metadata": {},
   "source": [
    "# Modelling\n",
    "---\n",
    "Build a simple model with logistic regression and simple feature eng"
   ]
  },
  {
   "cell_type": "code",
   "execution_count": 1,
   "id": "82160b8a",
   "metadata": {},
   "outputs": [],
   "source": [
    "import pandas as pd"
   ]
  },
  {
   "cell_type": "code",
   "execution_count": 113,
   "id": "6a1ac3ab",
   "metadata": {},
   "outputs": [
    {
     "data": {
      "text/html": [
       "<div>\n",
       "<style scoped>\n",
       "    .dataframe tbody tr th:only-of-type {\n",
       "        vertical-align: middle;\n",
       "    }\n",
       "\n",
       "    .dataframe tbody tr th {\n",
       "        vertical-align: top;\n",
       "    }\n",
       "\n",
       "    .dataframe thead th {\n",
       "        text-align: right;\n",
       "    }\n",
       "</style>\n",
       "<table border=\"1\" class=\"dataframe\">\n",
       "  <thead>\n",
       "    <tr style=\"text-align: right;\">\n",
       "      <th></th>\n",
       "      <th>url</th>\n",
       "      <th>type</th>\n",
       "    </tr>\n",
       "  </thead>\n",
       "  <tbody>\n",
       "    <tr>\n",
       "      <th>0</th>\n",
       "      <td>br-icloud.com.br</td>\n",
       "      <td>phishing</td>\n",
       "    </tr>\n",
       "    <tr>\n",
       "      <th>1</th>\n",
       "      <td>mp3raid.com/music/krizz_kaliko.html</td>\n",
       "      <td>benign</td>\n",
       "    </tr>\n",
       "  </tbody>\n",
       "</table>\n",
       "</div>"
      ],
      "text/plain": [
       "                                   url      type\n",
       "0                     br-icloud.com.br  phishing\n",
       "1  mp3raid.com/music/krizz_kaliko.html    benign"
      ]
     },
     "execution_count": 113,
     "metadata": {},
     "output_type": "execute_result"
    }
   ],
   "source": [
    "df = pd.read_csv(\"../data/malicious_phish.csv\")\n",
    "df.head(2)"
   ]
  },
  {
   "cell_type": "markdown",
   "id": "ace2eb89",
   "metadata": {},
   "source": [
    "# Feature Engineering"
   ]
  },
  {
   "cell_type": "code",
   "execution_count": 50,
   "id": "0799f1fb",
   "metadata": {},
   "outputs": [],
   "source": [
    "for htt in ['http',\"https\"]:\n",
    "    df[htt] = df['url'].apply(lambda x: htt in x)\n",
    "    df['url'] = df['url'].apply(lambda x: x.split(\"://\")[-1])"
   ]
  },
  {
   "cell_type": "code",
   "execution_count": 55,
   "id": "2722d9af",
   "metadata": {},
   "outputs": [],
   "source": [
    "df['url'] = df['url'].apply(lambda x: x.replace(\"www.\",\"\"))"
   ]
  },
  {
   "cell_type": "code",
   "execution_count": 62,
   "id": "5bfef638",
   "metadata": {},
   "outputs": [],
   "source": [
    "for end in [\".com\",\".net\",\".gov\",\".edu\"]:\n",
    "    df[end] = df['url'].apply(lambda x: end in x)"
   ]
  },
  {
   "cell_type": "code",
   "execution_count": 64,
   "id": "60eb054b",
   "metadata": {},
   "outputs": [],
   "source": [
    "df['dotCount'] = df['url'].apply(lambda x: x.count(\".\"))\n",
    "df['SlashCount'] = df['url'].apply(lambda x: x.count(\"/\"))\n",
    "df['InterrogationCount'] = df['url'].apply(lambda x: x.count(\"?\"))\n",
    "df['lenUrl'] = df['url'].apply(lambda x: len(x))"
   ]
  },
  {
   "cell_type": "code",
   "execution_count": 75,
   "id": "3344d689",
   "metadata": {},
   "outputs": [
    {
     "data": {
      "text/html": [
       "<div>\n",
       "<style scoped>\n",
       "    .dataframe tbody tr th:only-of-type {\n",
       "        vertical-align: middle;\n",
       "    }\n",
       "\n",
       "    .dataframe tbody tr th {\n",
       "        vertical-align: top;\n",
       "    }\n",
       "\n",
       "    .dataframe thead th {\n",
       "        text-align: right;\n",
       "    }\n",
       "</style>\n",
       "<table border=\"1\" class=\"dataframe\">\n",
       "  <thead>\n",
       "    <tr style=\"text-align: right;\">\n",
       "      <th></th>\n",
       "      <th>url</th>\n",
       "      <th>type</th>\n",
       "      <th>http</th>\n",
       "      <th>https</th>\n",
       "      <th>.com</th>\n",
       "      <th>.net</th>\n",
       "      <th>.gov</th>\n",
       "      <th>.edu</th>\n",
       "      <th>dotCount</th>\n",
       "      <th>SlashCount</th>\n",
       "      <th>InterrogationCount</th>\n",
       "      <th>lenUrl</th>\n",
       "    </tr>\n",
       "  </thead>\n",
       "  <tbody>\n",
       "    <tr>\n",
       "      <th>176977</th>\n",
       "      <td>jtbgreece.com/europe-short-escapes</td>\n",
       "      <td>defacement</td>\n",
       "      <td>True</td>\n",
       "      <td>False</td>\n",
       "      <td>True</td>\n",
       "      <td>False</td>\n",
       "      <td>False</td>\n",
       "      <td>False</td>\n",
       "      <td>1</td>\n",
       "      <td>1</td>\n",
       "      <td>0</td>\n",
       "      <td>34</td>\n",
       "    </tr>\n",
       "    <tr>\n",
       "      <th>328242</th>\n",
       "      <td>swimming.about.com/od/olympicswimmingmedalists...</td>\n",
       "      <td>benign</td>\n",
       "      <td>False</td>\n",
       "      <td>False</td>\n",
       "      <td>True</td>\n",
       "      <td>False</td>\n",
       "      <td>False</td>\n",
       "      <td>False</td>\n",
       "      <td>3</td>\n",
       "      <td>4</td>\n",
       "      <td>0</td>\n",
       "      <td>68</td>\n",
       "    </tr>\n",
       "    <tr>\n",
       "      <th>40747</th>\n",
       "      <td>biola.edu/</td>\n",
       "      <td>benign</td>\n",
       "      <td>False</td>\n",
       "      <td>False</td>\n",
       "      <td>False</td>\n",
       "      <td>False</td>\n",
       "      <td>False</td>\n",
       "      <td>True</td>\n",
       "      <td>1</td>\n",
       "      <td>1</td>\n",
       "      <td>0</td>\n",
       "      <td>10</td>\n",
       "    </tr>\n",
       "    <tr>\n",
       "      <th>350630</th>\n",
       "      <td>peaceoneday.org/</td>\n",
       "      <td>benign</td>\n",
       "      <td>False</td>\n",
       "      <td>False</td>\n",
       "      <td>False</td>\n",
       "      <td>False</td>\n",
       "      <td>False</td>\n",
       "      <td>False</td>\n",
       "      <td>1</td>\n",
       "      <td>1</td>\n",
       "      <td>0</td>\n",
       "      <td>16</td>\n",
       "    </tr>\n",
       "    <tr>\n",
       "      <th>457719</th>\n",
       "      <td>skyrock.com/videos/eDJjcno0dDoxMw==-Jason-Sude...</td>\n",
       "      <td>benign</td>\n",
       "      <td>True</td>\n",
       "      <td>False</td>\n",
       "      <td>True</td>\n",
       "      <td>False</td>\n",
       "      <td>False</td>\n",
       "      <td>False</td>\n",
       "      <td>2</td>\n",
       "      <td>2</td>\n",
       "      <td>1</td>\n",
       "      <td>122</td>\n",
       "    </tr>\n",
       "    <tr>\n",
       "      <th>572390</th>\n",
       "      <td>antica.co/en/wp-content//themes/antica/js/dir/...</td>\n",
       "      <td>benign</td>\n",
       "      <td>False</td>\n",
       "      <td>False</td>\n",
       "      <td>False</td>\n",
       "      <td>False</td>\n",
       "      <td>False</td>\n",
       "      <td>False</td>\n",
       "      <td>1</td>\n",
       "      <td>9</td>\n",
       "      <td>0</td>\n",
       "      <td>79</td>\n",
       "    </tr>\n",
       "    <tr>\n",
       "      <th>175783</th>\n",
       "      <td>wijzijnnietgevaarlijk.nl/honden-fotos/honden-v...</td>\n",
       "      <td>defacement</td>\n",
       "      <td>True</td>\n",
       "      <td>False</td>\n",
       "      <td>False</td>\n",
       "      <td>False</td>\n",
       "      <td>False</td>\n",
       "      <td>False</td>\n",
       "      <td>2</td>\n",
       "      <td>2</td>\n",
       "      <td>0</td>\n",
       "      <td>58</td>\n",
       "    </tr>\n",
       "    <tr>\n",
       "      <th>458675</th>\n",
       "      <td>blog.angryasianman.com/2011/10/california-asse...</td>\n",
       "      <td>benign</td>\n",
       "      <td>False</td>\n",
       "      <td>False</td>\n",
       "      <td>True</td>\n",
       "      <td>False</td>\n",
       "      <td>False</td>\n",
       "      <td>False</td>\n",
       "      <td>3</td>\n",
       "      <td>3</td>\n",
       "      <td>0</td>\n",
       "      <td>73</td>\n",
       "    </tr>\n",
       "    <tr>\n",
       "      <th>569016</th>\n",
       "      <td>eu.diablo.net.ms.sy-login.in/login.html?app=wa...</td>\n",
       "      <td>benign</td>\n",
       "      <td>False</td>\n",
       "      <td>False</td>\n",
       "      <td>True</td>\n",
       "      <td>True</td>\n",
       "      <td>False</td>\n",
       "      <td>False</td>\n",
       "      <td>7</td>\n",
       "      <td>4</td>\n",
       "      <td>1</td>\n",
       "      <td>107</td>\n",
       "    </tr>\n",
       "    <tr>\n",
       "      <th>78696</th>\n",
       "      <td>people.famouswhy.com/henry_blodgett/</td>\n",
       "      <td>benign</td>\n",
       "      <td>False</td>\n",
       "      <td>False</td>\n",
       "      <td>True</td>\n",
       "      <td>False</td>\n",
       "      <td>False</td>\n",
       "      <td>False</td>\n",
       "      <td>2</td>\n",
       "      <td>2</td>\n",
       "      <td>0</td>\n",
       "      <td>36</td>\n",
       "    </tr>\n",
       "  </tbody>\n",
       "</table>\n",
       "</div>"
      ],
      "text/plain": [
       "                                                      url        type   http  \\\n",
       "176977                 jtbgreece.com/europe-short-escapes  defacement   True   \n",
       "328242  swimming.about.com/od/olympicswimmingmedalists...      benign  False   \n",
       "40747                                          biola.edu/      benign  False   \n",
       "350630                                   peaceoneday.org/      benign  False   \n",
       "457719  skyrock.com/videos/eDJjcno0dDoxMw==-Jason-Sude...      benign   True   \n",
       "572390  antica.co/en/wp-content//themes/antica/js/dir/...      benign  False   \n",
       "175783  wijzijnnietgevaarlijk.nl/honden-fotos/honden-v...  defacement   True   \n",
       "458675  blog.angryasianman.com/2011/10/california-asse...      benign  False   \n",
       "569016  eu.diablo.net.ms.sy-login.in/login.html?app=wa...      benign  False   \n",
       "78696                people.famouswhy.com/henry_blodgett/      benign  False   \n",
       "\n",
       "        https   .com   .net   .gov   .edu  dotCount  SlashCount  \\\n",
       "176977  False   True  False  False  False         1           1   \n",
       "328242  False   True  False  False  False         3           4   \n",
       "40747   False  False  False  False   True         1           1   \n",
       "350630  False  False  False  False  False         1           1   \n",
       "457719  False   True  False  False  False         2           2   \n",
       "572390  False  False  False  False  False         1           9   \n",
       "175783  False  False  False  False  False         2           2   \n",
       "458675  False   True  False  False  False         3           3   \n",
       "569016  False   True   True  False  False         7           4   \n",
       "78696   False   True  False  False  False         2           2   \n",
       "\n",
       "        InterrogationCount  lenUrl  \n",
       "176977                   0      34  \n",
       "328242                   0      68  \n",
       "40747                    0      10  \n",
       "350630                   0      16  \n",
       "457719                   1     122  \n",
       "572390                   0      79  \n",
       "175783                   0      58  \n",
       "458675                   0      73  \n",
       "569016                   1     107  \n",
       "78696                    0      36  "
      ]
     },
     "execution_count": 75,
     "metadata": {},
     "output_type": "execute_result"
    }
   ],
   "source": [
    "df.sample(10)"
   ]
  },
  {
   "cell_type": "code",
   "execution_count": 111,
   "id": "f6e76ed7",
   "metadata": {},
   "outputs": [
    {
     "data": {
      "text/plain": [
       "{'http': 0,\n",
       " 'https': 0,\n",
       " '.com': 1,\n",
       " '.net': 0,\n",
       " '.gov': 0,\n",
       " '.edu': 0,\n",
       " 'dotCount': 2,\n",
       " 'SlashCount': 2,\n",
       " 'InterrogationCount': 0,\n",
       " 'lenUrl': 35}"
      ]
     },
     "execution_count": 111,
     "metadata": {},
     "output_type": "execute_result"
    }
   ],
   "source": [
    "def url_model_format(url=\"mp3raid.com/music/krizz_kaliko.html\"):\n",
    "    df = {}\n",
    "    for htt in ['http',\"https\"]:\n",
    "        df[htt] = int(htt in url)\n",
    "        url = url.split(\"://\")[-1]    \n",
    "    \n",
    "    url = url.replace(\"www.\",\"\")\n",
    "    \n",
    "    for end in [\".com\",\".net\",\".gov\",\".edu\"]:\n",
    "        df[end] = int(end in url)\n",
    "    \n",
    "    df['dotCount'] = url.count(\".\")\n",
    "    df['SlashCount'] = url.count(\"/\")\n",
    "    df['InterrogationCount'] = url.count(\"?\")\n",
    "    df['lenUrl'] = len(url)\n",
    "    return df\n",
    "url_model_format()"
   ]
  },
  {
   "cell_type": "markdown",
   "id": "4a0ac848",
   "metadata": {},
   "source": [
    "# Data Selection"
   ]
  },
  {
   "cell_type": "code",
   "execution_count": 76,
   "id": "ef48b934",
   "metadata": {},
   "outputs": [
    {
     "data": {
      "text/html": [
       "<div>\n",
       "<style scoped>\n",
       "    .dataframe tbody tr th:only-of-type {\n",
       "        vertical-align: middle;\n",
       "    }\n",
       "\n",
       "    .dataframe tbody tr th {\n",
       "        vertical-align: top;\n",
       "    }\n",
       "\n",
       "    .dataframe thead th {\n",
       "        text-align: right;\n",
       "    }\n",
       "</style>\n",
       "<table border=\"1\" class=\"dataframe\">\n",
       "  <thead>\n",
       "    <tr style=\"text-align: right;\">\n",
       "      <th></th>\n",
       "      <th>http</th>\n",
       "      <th>https</th>\n",
       "      <th>.com</th>\n",
       "      <th>.net</th>\n",
       "      <th>.gov</th>\n",
       "      <th>.edu</th>\n",
       "      <th>dotCount</th>\n",
       "      <th>SlashCount</th>\n",
       "      <th>InterrogationCount</th>\n",
       "      <th>lenUrl</th>\n",
       "      <th>target</th>\n",
       "    </tr>\n",
       "  </thead>\n",
       "  <tbody>\n",
       "    <tr>\n",
       "      <th>0</th>\n",
       "      <td>False</td>\n",
       "      <td>False</td>\n",
       "      <td>True</td>\n",
       "      <td>False</td>\n",
       "      <td>False</td>\n",
       "      <td>False</td>\n",
       "      <td>2</td>\n",
       "      <td>0</td>\n",
       "      <td>0</td>\n",
       "      <td>16</td>\n",
       "      <td>True</td>\n",
       "    </tr>\n",
       "    <tr>\n",
       "      <th>1</th>\n",
       "      <td>False</td>\n",
       "      <td>False</td>\n",
       "      <td>True</td>\n",
       "      <td>False</td>\n",
       "      <td>False</td>\n",
       "      <td>False</td>\n",
       "      <td>2</td>\n",
       "      <td>2</td>\n",
       "      <td>0</td>\n",
       "      <td>35</td>\n",
       "      <td>False</td>\n",
       "    </tr>\n",
       "  </tbody>\n",
       "</table>\n",
       "</div>"
      ],
      "text/plain": [
       "    http  https  .com   .net   .gov   .edu  dotCount  SlashCount  \\\n",
       "0  False  False  True  False  False  False         2           0   \n",
       "1  False  False  True  False  False  False         2           2   \n",
       "\n",
       "   InterrogationCount  lenUrl  target  \n",
       "0                   0      16    True  \n",
       "1                   0      35   False  "
      ]
     },
     "execution_count": 76,
     "metadata": {},
     "output_type": "execute_result"
    }
   ],
   "source": [
    "df['target'] = df['type'] != \"benign\"\n",
    "df.drop(['url','type'],axis=1,inplace=True)\n",
    "df.head(2)"
   ]
  },
  {
   "cell_type": "code",
   "execution_count": 78,
   "id": "ff3577b0",
   "metadata": {},
   "outputs": [
    {
     "data": {
      "text/html": [
       "<div>\n",
       "<style scoped>\n",
       "    .dataframe tbody tr th:only-of-type {\n",
       "        vertical-align: middle;\n",
       "    }\n",
       "\n",
       "    .dataframe tbody tr th {\n",
       "        vertical-align: top;\n",
       "    }\n",
       "\n",
       "    .dataframe thead th {\n",
       "        text-align: right;\n",
       "    }\n",
       "</style>\n",
       "<table border=\"1\" class=\"dataframe\">\n",
       "  <thead>\n",
       "    <tr style=\"text-align: right;\">\n",
       "      <th></th>\n",
       "      <th>http</th>\n",
       "      <th>https</th>\n",
       "      <th>.com</th>\n",
       "      <th>.net</th>\n",
       "      <th>.gov</th>\n",
       "      <th>.edu</th>\n",
       "      <th>dotCount</th>\n",
       "      <th>SlashCount</th>\n",
       "      <th>InterrogationCount</th>\n",
       "      <th>lenUrl</th>\n",
       "      <th>target</th>\n",
       "    </tr>\n",
       "  </thead>\n",
       "  <tbody>\n",
       "    <tr>\n",
       "      <th>0</th>\n",
       "      <td>0</td>\n",
       "      <td>0</td>\n",
       "      <td>1</td>\n",
       "      <td>0</td>\n",
       "      <td>0</td>\n",
       "      <td>0</td>\n",
       "      <td>2</td>\n",
       "      <td>0</td>\n",
       "      <td>0</td>\n",
       "      <td>16</td>\n",
       "      <td>1</td>\n",
       "    </tr>\n",
       "    <tr>\n",
       "      <th>1</th>\n",
       "      <td>0</td>\n",
       "      <td>0</td>\n",
       "      <td>1</td>\n",
       "      <td>0</td>\n",
       "      <td>0</td>\n",
       "      <td>0</td>\n",
       "      <td>2</td>\n",
       "      <td>2</td>\n",
       "      <td>0</td>\n",
       "      <td>35</td>\n",
       "      <td>0</td>\n",
       "    </tr>\n",
       "  </tbody>\n",
       "</table>\n",
       "</div>"
      ],
      "text/plain": [
       "   http  https  .com  .net  .gov  .edu  dotCount  SlashCount  \\\n",
       "0     0      0     1     0     0     0         2           0   \n",
       "1     0      0     1     0     0     0         2           2   \n",
       "\n",
       "   InterrogationCount  lenUrl  target  \n",
       "0                   0      16       1  \n",
       "1                   0      35       0  "
      ]
     },
     "execution_count": 78,
     "metadata": {},
     "output_type": "execute_result"
    }
   ],
   "source": [
    "bools_to_int = df.select_dtypes(bool).columns\n",
    "df[bools_to_int] = df[bools_to_int].astype(int)\n",
    "df.head(2)"
   ]
  },
  {
   "cell_type": "markdown",
   "id": "4c2e7040",
   "metadata": {},
   "source": [
    "EDA \n",
    "---\n",
    "Space to build eda further and add new features"
   ]
  },
  {
   "cell_type": "code",
   "execution_count": 82,
   "id": "1aee98db",
   "metadata": {},
   "outputs": [
    {
     "data": {
      "text/plain": [
       "http                  0.624526\n",
       "https                 0.001853\n",
       ".com                 -0.275113\n",
       ".net                 -0.022036\n",
       ".gov                 -0.024181\n",
       ".edu                 -0.000241\n",
       "dotCount              0.101167\n",
       "SlashCount           -0.172996\n",
       "InterrogationCount    0.131495\n",
       "lenUrl                0.011327\n",
       "target                1.000000\n",
       "Name: target, dtype: float64"
      ]
     },
     "execution_count": 82,
     "metadata": {},
     "output_type": "execute_result"
    }
   ],
   "source": [
    "df.corr()['target']"
   ]
  },
  {
   "cell_type": "markdown",
   "id": "94306122",
   "metadata": {},
   "source": [
    "# Models"
   ]
  },
  {
   "cell_type": "code",
   "execution_count": 84,
   "id": "788489e4",
   "metadata": {},
   "outputs": [],
   "source": [
    "from sklearn.model_selection import train_test_split\n",
    "from sklearn.linear_model import LogisticRegression"
   ]
  },
  {
   "cell_type": "code",
   "execution_count": 85,
   "id": "a970145b",
   "metadata": {},
   "outputs": [],
   "source": [
    "x_cols = df.columns.drop(\"target\").tolist()\n",
    "\n",
    "X_train, X_test, y_train, y_test = train_test_split(\n",
    "    df[x_cols], df['target'], test_size=0.33, \n",
    "    random_state=42, stratify=df['target']\n",
    ")"
   ]
  },
  {
   "cell_type": "code",
   "execution_count": 88,
   "id": "c609812e",
   "metadata": {},
   "outputs": [
    {
     "data": {
      "text/plain": [
       "LogisticRegression(max_iter=10000.0)"
      ]
     },
     "execution_count": 88,
     "metadata": {},
     "output_type": "execute_result"
    }
   ],
   "source": [
    "model = LogisticRegression(max_iter=1e4)\n",
    "model.fit(X_train,y_train)"
   ]
  },
  {
   "cell_type": "markdown",
   "id": "f9d8dd29",
   "metadata": {},
   "source": [
    "# Evaluation"
   ]
  },
  {
   "cell_type": "code",
   "execution_count": 96,
   "id": "7901076b",
   "metadata": {},
   "outputs": [],
   "source": [
    "from sklearn.metrics import accuracy_score, confusion_matrix"
   ]
  },
  {
   "cell_type": "code",
   "execution_count": 104,
   "id": "7c4202d2",
   "metadata": {},
   "outputs": [
    {
     "data": {
      "text/plain": [
       "array([[0.93526102, 0.06473898],\n",
       "       [0.33775248, 0.66224752]])"
      ]
     },
     "execution_count": 104,
     "metadata": {},
     "output_type": "execute_result"
    }
   ],
   "source": [
    "confusion_matrix(y_true=y_test,y_pred=model.predict(X_test),normalize='true')"
   ]
  },
  {
   "cell_type": "markdown",
   "id": "ba15824f",
   "metadata": {},
   "source": [
    "# Save Model"
   ]
  },
  {
   "cell_type": "code",
   "execution_count": 250,
   "id": "e4ac15bf",
   "metadata": {},
   "outputs": [],
   "source": [
    "from joblib import dump, load\n",
    "import os"
   ]
  },
  {
   "cell_type": "code",
   "execution_count": 252,
   "id": "94f99a73",
   "metadata": {},
   "outputs": [],
   "source": [
    "if not os.path.exists(\"../models/\"):\n",
    "    os.mkdir(\"../models\")\n",
    "dump(model,\"../models/mallicius-detector.pkl\")"
   ]
  },
  {
   "cell_type": "code",
   "execution_count": 224,
   "id": "f871eb4e",
   "metadata": {},
   "outputs": [],
   "source": [
    "model = load(\"../models/mallicius-detector.pkl\")"
   ]
  },
  {
   "cell_type": "markdown",
   "id": "c704e2f4",
   "metadata": {},
   "source": [
    "# Test Flask API"
   ]
  },
  {
   "cell_type": "code",
   "execution_count": 227,
   "id": "a5e4c360",
   "metadata": {},
   "outputs": [
    {
     "name": "stdout",
     "output_type": "stream",
     "text": [
      "http://www.polska.travel.pl/pogoda-polska/gdansk/pogoda-polska/gdynia/1?miasto=27\n",
      "0.8325411992989592\n"
     ]
    }
   ],
   "source": [
    "import requests\n",
    "url_sample = df['url'].sample(10).iloc[0]\n",
    "res = requests.post(\"http://127.0.0.1:5000/\",data={\"url\":url_sample})\n",
    "res.json()\n",
    "print(url_sample)\n",
    "#print(url_model_format(url_sample))\n",
    "print(model.predict_proba([list(url_model_format(url_sample).values())])[0][1])"
   ]
  }
 ],
 "metadata": {
  "kernelspec": {
   "display_name": "Python 3 (ipykernel)",
   "language": "python",
   "name": "python3"
  },
  "language_info": {
   "codemirror_mode": {
    "name": "ipython",
    "version": 3
   },
   "file_extension": ".py",
   "mimetype": "text/x-python",
   "name": "python",
   "nbconvert_exporter": "python",
   "pygments_lexer": "ipython3",
   "version": "3.9.2"
  },
  "toc": {
   "base_numbering": 1,
   "nav_menu": {},
   "number_sections": true,
   "sideBar": true,
   "skip_h1_title": false,
   "title_cell": "Table of Contents",
   "title_sidebar": "Contents",
   "toc_cell": false,
   "toc_position": {},
   "toc_section_display": true,
   "toc_window_display": false
  }
 },
 "nbformat": 4,
 "nbformat_minor": 5
}
